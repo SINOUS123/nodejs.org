{
  "nbformat": 4,
  "nbformat_minor": 0,
  "metadata": {
    "colab": {
      "provenance": [],
      "include_colab_link": true
    },
    "kernelspec": {
      "name": "python3",
      "display_name": "Python 3"
    },
    "language_info": {
      "name": "python"
    }
  },
  "cells": [
    {
      "cell_type": "markdown",
      "metadata": {
        "id": "view-in-github",
        "colab_type": "text"
      },
      "source": [
        "<a href=\"https://colab.research.google.com/github/SINOUS123/nodejs.org/blob/main/Copie_de_Untitled1.ipynb\" target=\"_parent\"><img src=\"https://colab.research.google.com/assets/colab-badge.svg\" alt=\"Open In Colab\"/></a>"
      ]
    },
    {
      "cell_type": "code",
      "execution_count": null,
      "metadata": {
        "id": "ck16O3tmyBVJ"
      },
      "outputs": [],
      "source": [
        "from sklearn.neighbors import KNeighborsClassifier\n",
        "from sklearn.ensemble import RandomForestClassifier\n",
        "from sklearn.linear_model import LogisticRegression\n",
        "from sklearn.model_selection import train_test_split\n",
        "import numpy as np\n",
        "from sklearn.datasets import load_iris"
      ]
    },
    {
      "cell_type": "code",
      "source": [
        "data = load_iris()\n",
        "X, y = data.data, data.target\n"
      ],
      "metadata": {
        "id": "Xgrd1koVyXRU"
      },
      "execution_count": null,
      "outputs": []
    },
    {
      "cell_type": "code",
      "source": [
        "models = {\n",
        "    \"KNN\": KNeighborsClassifier(n_neighbors=3),\n",
        "    \"RF\": RandomForestClassifier(n_estimators=100),\n",
        "    \"LR\": LogisticRegression(max_iter=100)\n",
        "}\n",
        "\n",
        "X_labeled, X_no_labeled, y_labeled, _ = train_test_split(X, y, train_size=0.2)\n"
      ],
      "metadata": {
        "id": "gAEG4Xpwym94"
      },
      "execution_count": null,
      "outputs": []
    },
    {
      "cell_type": "code",
      "source": [
        "X_combined = {}\n",
        "y_combined = {}\n",
        "\n",
        "for model_name, model in models.items():\n",
        "  model.fit(X_labeled, y_labeled)\n",
        "  y_pred = model.predict(X_no_labeled)\n",
        "\n",
        "  X_temoin = np.concatenate((X_labeled, X_no_labeled), axis = 0)\n",
        "  y_temoin = np.concatenate((y_labeled, y_pred), axis = 0)\n",
        "\n",
        "  X_combined[model_name] = X_temoin\n",
        "  y_combined[model_name] = y_temoin\n",
        "\n",
        "final_model = KNeighborsClassifier(n_neighbors=3)\n",
        "\n",
        "for model_name in models.keys():\n",
        "  print(f\"L'entrainement du model: {model_name}\")\n",
        "  X_for_this_model = X_combined[model_name]\n",
        "  y_for_this_model = y_combined[model_name]\n",
        "  final_model.fit(X_for_this_model, y_for_this_model)\n",
        "\n",
        "  X, y = data.data, data.target\n",
        "\n",
        "  acc = final_model.score(X, y)\n",
        "\n",
        "  print(f\"Pour le model: {model_name}, le score est: {acc}\")"
      ],
      "metadata": {
        "colab": {
          "base_uri": "https://localhost:8080/"
        },
        "id": "Hpm84VXJzHCw",
        "outputId": "ef397b19-d91e-4389-a028-5f6d7eaf80cc"
      },
      "execution_count": null,
      "outputs": [
        {
          "output_type": "stream",
          "name": "stdout",
          "text": [
            "L'entrainement du model: KNN\n",
            "Pour le model: KNN, le score est: 0.94\n",
            "L'entrainement du model: RF\n",
            "Pour le model: RF, le score est: 0.9666666666666667\n",
            "L'entrainement du model: LR\n",
            "Pour le model: LR, le score est: 0.9066666666666666\n"
          ]
        }
      ]
    }
  ]
}